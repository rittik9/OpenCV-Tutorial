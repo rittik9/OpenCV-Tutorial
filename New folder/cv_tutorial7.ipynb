{
 "cells": [
  {
   "cell_type": "markdown",
   "id": "c75ca960",
   "metadata": {},
   "source": [
    "# Template Matching(Object Detection)"
   ]
  },
  {
   "cell_type": "markdown",
   "id": "a2a86528",
   "metadata": {},
   "source": [
    "BALL DETECTION"
   ]
  },
  {
   "cell_type": "code",
   "execution_count": 8,
   "id": "0a098b76",
   "metadata": {},
   "outputs": [],
   "source": [
    "import numpy as np\n",
    "import cv2\n",
    "img = cv2.imread('soccer_practice.jpg',0)\n",
    "img = cv2.resize(img, (0,0), fx=0.85,fy=0.85)\n",
    "template = cv2.imread('ball.png',0)\n",
    "h,w = template.shape #in a grey scale image there is only one channel (i.e.) a value between (0 and 255) so, a grey scale image is a two dimensional array.so it's shape only gives us (height,width)\n",
    "\n",
    "methods = [cv2.TM_CCOEFF, cv2.TM_CCOEFF_NORMED, cv2.TM_CCORR, cv2.TM_CCORR_NORMED,cv2.TM_SQDIFF, cv2.TM_SQDIFF_NORMED] # Template matching methods\n",
    "\n",
    "for method in methods:\n",
    "    img2 = img.copy()\n",
    "    \n",
    "    result = cv2.matchTemplate(img2, template, method) #using convolution\n",
    "    min_val , max_val, min_loc, max_loc = cv2.minMaxLoc(result)\n",
    "    \n",
    "    if method in [cv2.TM_SQDIFF, cv2.TM_SQDIFF_NORMED]:  #In these two methods most matched area with template happens to be min_loc\n",
    "        location = min_loc\n",
    "    else:\n",
    "        location = max_loc\n",
    "    \n",
    "    bottom_right = (location[0]+w , location[1]+h) #location is the top left corner of the rectangle\n",
    "    cv2.rectangle(img2, location, bottom_right , 255 , 5) # color is not a tupe of three values only one value because it is an grey scale image\n",
    "    cv2.imshow('Image',img2)\n",
    "    cv2.waitKey(0)\n",
    "    cv2.destroyAllWindows()"
   ]
  },
  {
   "cell_type": "markdown",
   "id": "779ed97a",
   "metadata": {},
   "source": [
    "SHOE DETECTION"
   ]
  },
  {
   "cell_type": "code",
   "execution_count": 12,
   "id": "299d48d3",
   "metadata": {},
   "outputs": [],
   "source": [
    "import numpy as np\n",
    "import cv2\n",
    "img = cv2.imread('soccer_practice.jpg',0)\n",
    "img = cv2.resize(img, (0,0), fx=0.7,fy=0.7)\n",
    "template = cv2.imread('shoe.png',0)\n",
    "template = cv2.resize(template, (0,0), fx=0.7,fy=0.7)\n",
    "h,w = template.shape #in a grey scale image there is only one channel (i.e.) a value between (0 and 255) so, a grey scale image is a two dimensional array.so it's shape only gives us (height,width)\n",
    "\n",
    "methods = [cv2.TM_CCOEFF, cv2.TM_CCOEFF_NORMED, cv2.TM_CCORR, cv2.TM_CCORR_NORMED,cv2.TM_SQDIFF, cv2.TM_SQDIFF_NORMED] # Template matching methods\n",
    "\n",
    "for method in methods:\n",
    "    img2 = img.copy()\n",
    "    \n",
    "    result = cv2.matchTemplate(img2, template, method) #using convolution\n",
    "    min_val , max_val, min_loc, max_loc = cv2.minMaxLoc(result)\n",
    "    \n",
    "    if method in [cv2.TM_SQDIFF, cv2.TM_SQDIFF_NORMED]:  #In these two methods most matched area with template happens to be min_loc\n",
    "        location = min_loc\n",
    "    else:\n",
    "        location = max_loc\n",
    "    \n",
    "    bottom_right = (location[0]+w , location[1]+h) #location is the top left corner of the rectangle\n",
    "    cv2.rectangle(img2, location, bottom_right , 255 , 5) # color is not a tupe of three values only one value because it is an grey scale image\n",
    "    cv2.imshow('Image',img2)\n",
    "    cv2.waitKey(0)\n",
    "    cv2.destroyAllWindows()"
   ]
  }
 ],
 "metadata": {
  "kernelspec": {
   "display_name": "Python 3 (ipykernel)",
   "language": "python",
   "name": "python3"
  },
  "language_info": {
   "codemirror_mode": {
    "name": "ipython",
    "version": 3
   },
   "file_extension": ".py",
   "mimetype": "text/x-python",
   "name": "python",
   "nbconvert_exporter": "python",
   "pygments_lexer": "ipython3",
   "version": "3.9.15"
  }
 },
 "nbformat": 4,
 "nbformat_minor": 5
}
