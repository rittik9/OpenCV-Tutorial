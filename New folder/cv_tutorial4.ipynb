{
 "cells": [
  {
   "cell_type": "markdown",
   "id": "18866fbe",
   "metadata": {},
   "source": [
    "# Opencv Co-ordinate System"
   ]
  },
  {
   "cell_type": "code",
   "execution_count": 9,
   "id": "9fd35d63",
   "metadata": {},
   "outputs": [],
   "source": [
    "import cv2\n",
    "img = cv2.imread('20230106_112528.jpg',1)  #cv2 by-default loads your images in blue green red color pattern rather than red green blue color pattern\n",
    "img = cv2.resize(img,(400,400))\n",
    "cv2.imshow('Image',img) # first parameter is the window name which will be popped up\n",
    "cv2.waitKey(0)          # 0:waiting for infinite amount of time until we press any other key and any other value means it will wait for that many miliseconds till then if we dont press any key it will automatically get closed \n",
    "cv2.destroyAllWindows()"
   ]
  },
  {
   "cell_type": "markdown",
   "id": "e8a3d6b5",
   "metadata": {},
   "source": [
    "# Drawing Lines"
   ]
  },
  {
   "cell_type": "code",
   "execution_count": 2,
   "id": "90f5cc05",
   "metadata": {},
   "outputs": [],
   "source": [
    "import numpy as np\n",
    "import cv2\n",
    "cap = cv2.VideoCapture(0) #0 is camera id\n",
    "while True:\n",
    "    ret,frame = cap.read()  # ret tells us if the camera can capture the video or not in True and False and frame is the image or the numpy array\n",
    "    height = int(cap.get(4))\n",
    "    width = int(cap.get(3))\n",
    "    \n",
    "    img = cv2.line(frame,(0,0),(width,height),(255,0,0),10) #(source image,(starting co-ordinates),(ending co-ordinaates),(color of the line in BGR format),thickness of the line in pixel values)\n",
    "    img = cv2.line(img,(width,0),(0,height),(0,255,0),10)\n",
    "    img = cv2.line(img,(width//2,0),(width//2,height),(0,0,255),10)\n",
    "    \n",
    "    cv2.imshow('frame',img)\n",
    "    if cv2.waitKey(1) == ord('q'):  #ord gives the ascii value\n",
    "        break\n",
    "\n",
    "cap.release()\n",
    "cv2.destroyAllWindows()\n",
    "        "
   ]
  },
  {
   "cell_type": "markdown",
   "id": "88ee75ad",
   "metadata": {},
   "source": [
    "# Drawing Rectangles"
   ]
  },
  {
   "cell_type": "code",
   "execution_count": 4,
   "id": "13e48375",
   "metadata": {},
   "outputs": [],
   "source": [
    "import numpy as np\n",
    "import cv2\n",
    "cap = cv2.VideoCapture(0) #0 is camera id\n",
    "while True:\n",
    "    ret,frame = cap.read()  # ret tells us if the camera can capture the video or not in True and False and frame is the image or the numpy array\n",
    "    height = int(cap.get(4))\n",
    "    width = int(cap.get(3))\n",
    "    \n",
    "    img = cv2.rectangle(frame,(100,100),(200,200),(128,128,120),10) #(source image,(co-ordinates of top_left corner),(co-ordinates of bottom right corner),(color),thickness)\n",
    "    #(if thickness = -1 then the whole rectangle gets filled)\n",
    "    cv2.imshow('frame',img)\n",
    "    if cv2.waitKey(1) == ord('q'):  #ord gives the ascii value\n",
    "        break\n",
    "\n",
    "cap.release()\n",
    "cv2.destroyAllWindows()\n",
    "        "
   ]
  },
  {
   "cell_type": "markdown",
   "id": "007e49c9",
   "metadata": {},
   "source": [
    "# Drawing Circles"
   ]
  },
  {
   "cell_type": "code",
   "execution_count": 5,
   "id": "08aab7f0",
   "metadata": {},
   "outputs": [],
   "source": [
    "import numpy as np\n",
    "import cv2\n",
    "cap = cv2.VideoCapture(0) #0 is camera id\n",
    "while True:\n",
    "    ret,frame = cap.read()  # ret tells us if the camera can capture the video or not in True and False and frame is the image or the numpy array\n",
    "    height = int(cap.get(4))\n",
    "    width = int(cap.get(3))\n",
    "    \n",
    "    img = cv2.circle(frame,(100,100),50,(128,128,120),10) #(source image,(co-ordinates of center position),radius,(color),thickness)\n",
    "    #(if thickness = -1 then the whole rectangle gets filled)\n",
    "    cv2.imshow('frame',img)\n",
    "    if cv2.waitKey(1) == ord('q'):  #ord gives the ascii value\n",
    "        break\n",
    "\n",
    "cap.release()\n",
    "cv2.destroyAllWindows()\n",
    "        "
   ]
  },
  {
   "cell_type": "markdown",
   "id": "ce45805f",
   "metadata": {},
   "source": [
    "# Drawing Text"
   ]
  },
  {
   "cell_type": "code",
   "execution_count": 8,
   "id": "d161974d",
   "metadata": {},
   "outputs": [],
   "source": [
    "import numpy as np\n",
    "import cv2\n",
    "cap = cv2.VideoCapture(0) #0 is camera id\n",
    "while True:\n",
    "    ret,frame = cap.read()  # ret tells us if the camera can capture the video or not in True and False and frame is the image or the numpy array\n",
    "    height = int(cap.get(4))\n",
    "    width = int(cap.get(3))\n",
    "    \n",
    "    font = cv2.FONT_ITALIC\n",
    "    img = cv2.putText(frame,\"Rittik Panda\",(10,height-10),font,1,(0,0,0),5,cv2.LINE_AA) #(src img,Text,(starting co-ordinate),FONT,FONT SCALE,Color,LINE Thickness,Line Type)\n",
    "    #Line Type is an optional argument which actually changes the way the font is rendered\n",
    "    \n",
    "    cv2.imshow('frame',img)\n",
    "    if cv2.waitKey(1) == ord('q'):  #ord gives the ascii value\n",
    "        break\n",
    "\n",
    "cap.release()\n",
    "cv2.destroyAllWindows()"
   ]
  }
 ],
 "metadata": {
  "kernelspec": {
   "display_name": "Python 3 (ipykernel)",
   "language": "python",
   "name": "python3"
  },
  "language_info": {
   "codemirror_mode": {
    "name": "ipython",
    "version": 3
   },
   "file_extension": ".py",
   "mimetype": "text/x-python",
   "name": "python",
   "nbconvert_exporter": "python",
   "pygments_lexer": "ipython3",
   "version": "3.9.15"
  }
 },
 "nbformat": 4,
 "nbformat_minor": 5
}
