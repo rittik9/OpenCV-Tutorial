{
 "cells": [
  {
   "cell_type": "markdown",
   "id": "9518089e",
   "metadata": {},
   "source": [
    "# Image Representation"
   ]
  },
  {
   "cell_type": "code",
   "execution_count": 1,
   "id": "d6da2daf",
   "metadata": {},
   "outputs": [
    {
     "name": "stdout",
     "output_type": "stream",
     "text": [
      "[[[78 45 25]\n",
      "  [79 46 26]\n",
      "  [79 46 26]\n",
      "  ...\n",
      "  [69 66 58]\n",
      "  [69 66 58]\n",
      "  [70 67 59]]\n",
      "\n",
      " [[78 45 25]\n",
      "  [79 46 26]\n",
      "  [79 46 26]\n",
      "  ...\n",
      "  [69 66 58]\n",
      "  [69 66 58]\n",
      "  [70 67 59]]\n",
      "\n",
      " [[80 45 25]\n",
      "  [81 46 26]\n",
      "  [81 46 26]\n",
      "  ...\n",
      "  [68 65 57]\n",
      "  [69 66 58]\n",
      "  [69 66 58]]\n",
      "\n",
      " ...\n",
      "\n",
      " [[28 21 12]\n",
      "  [24 17  8]\n",
      "  [18 12  5]\n",
      "  ...\n",
      "  [23 21 13]\n",
      "  [23 21 13]\n",
      "  [23 21 13]]\n",
      "\n",
      " [[24 17  8]\n",
      "  [21 14  5]\n",
      "  [15  9  2]\n",
      "  ...\n",
      "  [20 18 10]\n",
      "  [21 19 11]\n",
      "  [22 20 12]]\n",
      "\n",
      " [[22 15  6]\n",
      "  [19 12  3]\n",
      "  [13  7  0]\n",
      "  ...\n",
      "  [17 15  7]\n",
      "  [17 15  7]\n",
      "  [19 17  9]]]\n"
     ]
    }
   ],
   "source": [
    "import cv2\n",
    "img = cv2.imread('LM10.jpg',1) #extracts the pixels from the image and load into a numpy array\n",
    "print(img)  "
   ]
  },
  {
   "cell_type": "code",
   "execution_count": 2,
   "id": "13480f6e",
   "metadata": {},
   "outputs": [
    {
     "name": "stdout",
     "output_type": "stream",
     "text": [
      "<class 'numpy.ndarray'>\n"
     ]
    }
   ],
   "source": [
    "print(type(img))"
   ]
  },
  {
   "cell_type": "code",
   "execution_count": 3,
   "id": "57998ef5",
   "metadata": {},
   "outputs": [
    {
     "name": "stdout",
     "output_type": "stream",
     "text": [
      "(916, 735, 3)\n"
     ]
    }
   ],
   "source": [
    "print(img.shape) #height==no. of rows,width==no.of columns,no. of channels RGB or BGR(channel means how many values representing each pixel)"
   ]
  },
  {
   "cell_type": "markdown",
   "id": "35ed1873",
   "metadata": {},
   "source": [
    "# Understanding The Numpy Array"
   ]
  },
  {
   "cell_type": "code",
   "execution_count": 4,
   "id": "4dcc2cb4",
   "metadata": {},
   "outputs": [
    {
     "data": {
      "text/plain": [
       "'\\n[\\n    [  [5,3,6] ,   [8,3,4]       ]\\n    [  [255,0,9] , [128,216,167] ]\\n    \\n]\\n'"
      ]
     },
     "execution_count": 4,
     "metadata": {},
     "output_type": "execute_result"
    }
   ],
   "source": [
    "#lets take an 2*2 image i.e. 4 pixels\n",
    "\"\"\"\n",
    "[\n",
    "    [  [5,3,6] ,   [8,3,4]       ]\n",
    "    [  [255,0,9] , [128,216,167] ]\n",
    "    \n",
    "]\n",
    "\n",
    "\"\"\"\n",
    "\n",
    "#The above array has 2 rows and 2 columns and each element got represented by a list of 3 values(channels) , usually it is RGB but in case of cv2 it is BGR\n",
    "#So the above array's shape is (2,2,3)\n",
    "#[23,34,52] in cv2 respectively Blue Green Red ,[0,0,0]means black and [255,255,255] means white\n",
    "# values in each position valid are 0-255 where 0=None and 255 = All\n",
    "#So,[255,0,0] = Blue(All blue ,no green and no red) & [128,0,0] = Lighter Blue"
   ]
  },
  {
   "cell_type": "markdown",
   "id": "1c259009",
   "metadata": {},
   "source": [
    "# Accessing Pixel Values"
   ]
  },
  {
   "cell_type": "code",
   "execution_count": 5,
   "id": "d57de92c",
   "metadata": {},
   "outputs": [
    {
     "name": "stdout",
     "output_type": "stream",
     "text": [
      "[[  2   0   0]\n",
      " [  0   0   0]\n",
      " [  2   3   1]\n",
      " ...\n",
      " [101 119 148]\n",
      " [107 125 154]\n",
      " [116 134 163]]\n"
     ]
    }
   ],
   "source": [
    "print(img[0][78:457])"
   ]
  },
  {
   "cell_type": "code",
   "execution_count": 6,
   "id": "3dc2f1fe",
   "metadata": {},
   "outputs": [
    {
     "name": "stdout",
     "output_type": "stream",
     "text": [
      "[116 134 163]\n"
     ]
    }
   ],
   "source": [
    "print(img[0][456])"
   ]
  },
  {
   "cell_type": "code",
   "execution_count": 7,
   "id": "7a878319",
   "metadata": {},
   "outputs": [
    {
     "name": "stdout",
     "output_type": "stream",
     "text": [
      "[[  2   0   0]\n",
      " [  0   0   0]\n",
      " [  2   3   1]\n",
      " ...\n",
      " [101 119 148]\n",
      " [107 125 154]\n",
      " [116 134 163]]\n"
     ]
    }
   ],
   "source": [
    "print(img[0 , 78:457])"
   ]
  },
  {
   "cell_type": "code",
   "execution_count": 8,
   "id": "b24cc807",
   "metadata": {},
   "outputs": [
    {
     "name": "stdout",
     "output_type": "stream",
     "text": [
      "[116 134 163]\n"
     ]
    }
   ],
   "source": [
    "print(img[0,456])"
   ]
  },
  {
   "cell_type": "markdown",
   "id": "e03865e1",
   "metadata": {},
   "source": [
    "# Changing Pixel Colors"
   ]
  },
  {
   "cell_type": "code",
   "execution_count": 9,
   "id": "1480f931",
   "metadata": {},
   "outputs": [],
   "source": [
    "import random\n",
    "for i in range(100):\n",
    "    for j in range(img.shape[1]):\n",
    "        img[i][j] = [random.randint(0,255),random.randint(0,255),random.randint(0,255)]\n",
    "\n",
    "cv2.imshow('Image',img) # first parameter is the window name which will be popped up\n",
    "cv2.waitKey(0)          # 0:waiting for infinite amount of time until we press any other key and any other value means it will wait for that many seconds till then if we dont press any key it will automatically get closed \n",
    "cv2.destroyAllWindows()"
   ]
  },
  {
   "cell_type": "markdown",
   "id": "e00d72cb",
   "metadata": {},
   "source": [
    "# Copying and Pasting Parts of Image"
   ]
  },
  {
   "cell_type": "code",
   "execution_count": 13,
   "id": "b8613fce",
   "metadata": {},
   "outputs": [],
   "source": [
    "img = cv2.imread('LM10.jpg',1) \n",
    "tag = img[300:400,600:700]\n",
    "img[200:300,400:500]=tag   #left side's shape i.e. the part of the image where copying is happening should be same size as the tag\n",
    "\n",
    "cv2.imshow('Image',img) # first parameter is the window name which will be popped up\n",
    "cv2.waitKey(0)          # 0:waiting for infinite amount of time until we press any other key and any other value means it will wait for that many seconds till then if we dont press any key it will automatically get closed \n",
    "cv2.destroyAllWindows()"
   ]
  }
 ],
 "metadata": {
  "kernelspec": {
   "display_name": "Python 3 (ipykernel)",
   "language": "python",
   "name": "python3"
  },
  "language_info": {
   "codemirror_mode": {
    "name": "ipython",
    "version": 3
   },
   "file_extension": ".py",
   "mimetype": "text/x-python",
   "name": "python",
   "nbconvert_exporter": "python",
   "pygments_lexer": "ipython3",
   "version": "3.9.15"
  }
 },
 "nbformat": 4,
 "nbformat_minor": 5
}
