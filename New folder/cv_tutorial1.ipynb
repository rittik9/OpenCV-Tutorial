{
 "cells": [
  {
   "cell_type": "markdown",
   "id": "daacb911",
   "metadata": {},
   "source": [
    "# Loading The Image"
   ]
  },
  {
   "cell_type": "code",
   "execution_count": 11,
   "id": "9d053632",
   "metadata": {},
   "outputs": [],
   "source": [
    "import cv2\n",
    "img = cv2.imread('ian-dooley-hpTH5b6mo2s-unsplash.jpg',1)  #cv2 by-default loads your images in blue green red color pattern rather than red green blue color pattern\n",
    "\n",
    "# -1 : cv2.IMREAD_COLOR : Loads a color image.Any transparency(like transparent background) of image will be neglected (without considering the alpha values of any of the pixels).It is the default flag.\n",
    "# 0 : cv2.IMREAD_GRAYSCALE : Loads an image in grayscale mode\n",
    "# 1 : cv2.IMREAD_UNCHANGED : Loads image as it is , including alpha channel\n",
    "\n",
    "\n",
    "\n"
   ]
  },
  {
   "cell_type": "markdown",
   "id": "f93d9bcc",
   "metadata": {},
   "source": [
    "# Displaying The Image"
   ]
  },
  {
   "cell_type": "code",
   "execution_count": 12,
   "id": "37dd15d2",
   "metadata": {},
   "outputs": [],
   "source": [
    "cv2.imshow('Image',img) # first parameter is the window name which will be popped up\n",
    "cv2.waitKey(0)          # 0:waiting for infinite amount of time until we press any other key and any other value means it will wait for that many seconds till then if we dont press any key it will automatically get closed \n",
    "cv2.destroyAllWindows()"
   ]
  },
  {
   "cell_type": "markdown",
   "id": "903ad0ec",
   "metadata": {},
   "source": [
    "# Resizing The Image"
   ]
  },
  {
   "cell_type": "code",
   "execution_count": 14,
   "id": "89a8c792",
   "metadata": {},
   "outputs": [],
   "source": [
    "img = cv2.resize(img,(400,400))\n",
    "cv2.imshow('Image',img) # first parameter is the window name which will be popped up\n",
    "cv2.waitKey(0)          # 0:waiting for infinite amount of time until we press any other key and any other value means it will wait for that many miliseconds till then if we dont press any key it will automatically get closed \n",
    "cv2.destroyAllWindows()"
   ]
  },
  {
   "cell_type": "code",
   "execution_count": 15,
   "id": "02b0e51d",
   "metadata": {},
   "outputs": [],
   "source": [
    "# resizing the image in a different way instead of mentioning the height and length ,we are specifying how much fraction of original image we are keeping\n",
    "img = cv2.resize(img, (0,0), fx=0.5,fy=0.5)\n",
    "cv2.imshow('Image',img) # first parameter is the window name which will be popped up\n",
    "cv2.waitKey(0)          # 0:waiting for infinite amount of time until we press any other key and any other value means it will wait for that many seconds till then if we dont press any key it will automatically get closed \n",
    "cv2.destroyAllWindows()"
   ]
  },
  {
   "cell_type": "markdown",
   "id": "03395ef8",
   "metadata": {},
   "source": [
    "# Rotating The Image"
   ]
  },
  {
   "cell_type": "code",
   "execution_count": 17,
   "id": "8f1c2159",
   "metadata": {},
   "outputs": [],
   "source": [
    "rotated_img = cv2.rotate(img,cv2.ROTATE_90_COUNTERCLOCKWISE) "
   ]
  },
  {
   "cell_type": "code",
   "execution_count": 19,
   "id": "9361b3ed",
   "metadata": {},
   "outputs": [],
   "source": [
    "cv2.imshow('rotated_Image',rotated_img) # first parameter is the window name which will be popped up\n",
    "cv2.waitKey(0)          # 0:waiting for infinite amount of time until we press any other key and any other value means it will wait for that many seconds till then if we dont press any key it will automatically get closed \n",
    "cv2.destroyAllWindows()"
   ]
  },
  {
   "cell_type": "markdown",
   "id": "68233aa6",
   "metadata": {},
   "source": [
    "# Saving An Image"
   ]
  },
  {
   "cell_type": "code",
   "execution_count": 21,
   "id": "2d0840be",
   "metadata": {},
   "outputs": [
    {
     "data": {
      "text/plain": [
       "True"
      ]
     },
     "execution_count": 21,
     "metadata": {},
     "output_type": "execute_result"
    }
   ],
   "source": [
    "cv2.imwrite('new_img.jpg',rotated_img)"
   ]
  }
 ],
 "metadata": {
  "kernelspec": {
   "display_name": "Python 3 (ipykernel)",
   "language": "python",
   "name": "python3"
  },
  "language_info": {
   "codemirror_mode": {
    "name": "ipython",
    "version": 3
   },
   "file_extension": ".py",
   "mimetype": "text/x-python",
   "name": "python",
   "nbconvert_exporter": "python",
   "pygments_lexer": "ipython3",
   "version": "3.9.15"
  }
 },
 "nbformat": 4,
 "nbformat_minor": 5
}
