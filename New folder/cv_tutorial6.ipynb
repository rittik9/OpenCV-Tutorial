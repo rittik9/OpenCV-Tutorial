{
 "cells": [
  {
   "cell_type": "markdown",
   "id": "14bf8be6",
   "metadata": {},
   "source": [
    "# Corner Detection "
   ]
  },
  {
   "cell_type": "code",
   "execution_count": 5,
   "id": "5719663d",
   "metadata": {},
   "outputs": [],
   "source": [
    "import numpy as np\n",
    "import cv2\n",
    "\n",
    "img = cv2.imread('chessboard.png')\n",
    "img = cv2.resize(img, (0, 0), fx=0.75, fy=0.75)\n",
    "gray = cv2.cvtColor(img, cv2.COLOR_BGR2GRAY) #when you are dealing with this type of algorithms like detecting edges,corners,features they will work good on gray scale images.It is easier for them to detect on gray scale image than the rgb or bgr images.\n",
    "\n",
    "corners = cv2.goodFeaturesToTrack(gray, 100, 0.01, 10) #this runs an algorithm called Shi-Tomasi Corner Detector and Good Features to Track\n",
    "#(source image,n best corners in the image, minimum quality for our corners(quality of a corner is between 0-1 where 1 is a perfect corner and 0 is a non corner),minimum euclidean distance between two corners)\n",
    "#Euclidean distance is absolute distance between two points in an image.Distance between two points (a1,b1) and (a2,b2) is sqrt((a1-a2)^2+(b1-b2)^2)\n",
    "corners = np.int0(corners) #By default data type of the corners are floating point values, we converted it into integers\n",
    "\n",
    "for corner in corners:\n",
    "    x, y = corner.ravel() # [[[0,1,2]]]---ravel--->[0,1,2],[[1,2],[2,1]]---ravel--->[1,2,2,1],[[x,y]]-->[x,y]\n",
    "    cv2.circle(img, (x, y), 5, (255, 0, 0), -1)\n",
    "\n",
    "for i in range(len(corners)):\n",
    "    for j in range(i + 1, len(corners)):\n",
    "        corner1 = tuple(corners[i][0])\n",
    "        corner2 = tuple(corners[j][0])\n",
    "        color = tuple(map(lambda x: int(x), np.random.randint(0, 255, size=3))) \n",
    "        cv2.line(img, corner1, corner2, color, 1)\n",
    "\n",
    "\n",
    "cv2.imshow('Frame', img)\n",
    "cv2.waitKey(0)\n",
    "cv2.destroyAllWindows()"
   ]
  }
 ],
 "metadata": {
  "kernelspec": {
   "display_name": "Python 3 (ipykernel)",
   "language": "python",
   "name": "python3"
  },
  "language_info": {
   "codemirror_mode": {
    "name": "ipython",
    "version": 3
   },
   "file_extension": ".py",
   "mimetype": "text/x-python",
   "name": "python",
   "nbconvert_exporter": "python",
   "pygments_lexer": "ipython3",
   "version": "3.9.15"
  }
 },
 "nbformat": 4,
 "nbformat_minor": 5
}
