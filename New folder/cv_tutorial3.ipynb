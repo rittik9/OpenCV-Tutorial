{
 "cells": [
  {
   "cell_type": "code",
   "execution_count": 1,
   "id": "d1744175",
   "metadata": {},
   "outputs": [],
   "source": [
    "import numpy as np\n",
    "import cv2"
   ]
  },
  {
   "cell_type": "code",
   "execution_count": 2,
   "id": "c72df595",
   "metadata": {},
   "outputs": [],
   "source": [
    "cap = cv2.VideoCapture(0) #0 is camera id\n",
    "while True:\n",
    "    ret,frame = cap.read()  # ret tells us if the camera can capture the video or not in True and False and frame is the image or the numpy array\n",
    "    cv2.imshow('frame',frame)\n",
    "    if cv2.waitKey(1) == ord('q'):  #ord gives the ascii value\n",
    "        break\n",
    "\n",
    "cap.release()\n",
    "cv2.destroyAllWindows()\n",
    "        "
   ]
  },
  {
   "cell_type": "markdown",
   "id": "eee2be1e",
   "metadata": {},
   "source": [
    "# Mirroring video multiple times"
   ]
  },
  {
   "cell_type": "code",
   "execution_count": 6,
   "id": "09a8894f",
   "metadata": {},
   "outputs": [],
   "source": [
    "cap = cv2.VideoCapture(0) #0 is camera id\n",
    "while True:\n",
    "    ret,frame = cap.read()  # ret tells us if the camera can capture the video or not in True and False and frame is the image or the numpy array\n",
    "    height = int(cap.get(4)) # basically 4 indicates height\n",
    "    width = int(cap.get(3)) # 3 indicates width\n",
    "    \n",
    "    image = np.zeros(frame.shape,np.uint8)   \n",
    "    smaller_frame = cv2.resize(frame,(0,0),fx=0.5,fy=0.5) # decreasing height and width both by half actually reduces the the real image by (1/4)th\n",
    "    \n",
    "    image[:height//2,:width//2] = smaller_frame  #top_left\n",
    "    image[height//2:,:width//2] = smaller_frame  #bottom_left\n",
    "    image[:height//2,width//2:] = smaller_frame  #top_right\n",
    "    image[height//2:,width//2:] = smaller_frame   #bottom_right\n",
    "    \n",
    "    cv2.imshow('frame',image)\n",
    "    if cv2.waitKey(1) == ord('q'):  #ord gives the ascii value\n",
    "        break\n",
    "\n",
    "cap.release()\n",
    "cv2.destroyAllWindows()\n",
    "        "
   ]
  },
  {
   "cell_type": "code",
   "execution_count": 7,
   "id": "27ab6732",
   "metadata": {},
   "outputs": [],
   "source": [
    "cap = cv2.VideoCapture(0) #0 is camera id\n",
    "while True:\n",
    "    ret,frame = cap.read()  # ret tells us if the camera can capture the video or not in True and False and frame is the image or the numpy array\n",
    "    height = int(cap.get(4)) # basically 4 indicates height\n",
    "    width = int(cap.get(3)) # 3 indicates width\n",
    "    \n",
    "    image = np.zeros(frame.shape,np.uint8)   \n",
    "    smaller_frame = cv2.resize(frame,(0,0),fx=0.5,fy=0.5) # decreasing height and width both by half actually reduces the the real image by (1/4)th\n",
    "    \n",
    "    image[:height//2,:width//2] = cv2.rotate(smaller_frame,cv2.ROTATE_180)  #top_left\n",
    "    image[height//2:,:width//2] = smaller_frame  #bottom_left\n",
    "    image[:height//2,width//2:] = smaller_frame  #top_right\n",
    "    image[height//2:,width//2:] = cv2.rotate(smaller_frame,cv2.ROTATE_180)   #bottom_right\n",
    "    \n",
    "    cv2.imshow('frame',image)\n",
    "    if cv2.waitKey(1) == ord('q'):  #ord gives the ascii value\n",
    "        break\n",
    "\n",
    "cap.release()\n",
    "cv2.destroyAllWindows()\n",
    "        "
   ]
  }
 ],
 "metadata": {
  "kernelspec": {
   "display_name": "Python 3 (ipykernel)",
   "language": "python",
   "name": "python3"
  },
  "language_info": {
   "codemirror_mode": {
    "name": "ipython",
    "version": 3
   },
   "file_extension": ".py",
   "mimetype": "text/x-python",
   "name": "python",
   "nbconvert_exporter": "python",
   "pygments_lexer": "ipython3",
   "version": "3.9.15"
  }
 },
 "nbformat": 4,
 "nbformat_minor": 5
}
