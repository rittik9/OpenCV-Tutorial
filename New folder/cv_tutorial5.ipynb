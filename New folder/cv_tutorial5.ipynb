{
 "cells": [
  {
   "cell_type": "markdown",
   "id": "24ad7160",
   "metadata": {},
   "source": [
    "# Colors and Color Detection"
   ]
  },
  {
   "cell_type": "raw",
   "id": "d1d760e3",
   "metadata": {},
   "source": [
    "ACRONYM BREAKDOWN\n",
    "RGB: Red Green Blue\n",
    "BGR: Blue Green Red\n",
    "HSV: Hue Saturation and Lightness/Brightness"
   ]
  },
  {
   "cell_type": "markdown",
   "id": "5fadac75",
   "metadata": {},
   "source": [
    "We need to convert our BGR image into HSV image. Because to extract a color story from an image requires an HSV image "
   ]
  },
  {
   "cell_type": "code",
   "execution_count": 5,
   "id": "9a72d1cc",
   "metadata": {},
   "outputs": [],
   "source": [
    "import numpy as np\n",
    "import cv2\n",
    "cap = cv2.VideoCapture(0) #0 is camera id\n",
    "while True:\n",
    "    ret,frame = cap.read()  # ret tells us if the camera can capture the video or not in True and False and frame is the image or the numpy array\n",
    "    height = int(cap.get(4))\n",
    "    width = int(cap.get(3))\n",
    "    \n",
    "    hsv = cv2.cvtColor(frame,cv2.COLOR_BGR2HSV)\n",
    "    lower_blue = np.array([110,50,50])\n",
    "    upper_blue = np.array([130,255,255])  #above two are the lower bound and upper bound of the color pixels we are gonna display,if any pixel's value comes between that then that will be displayed\n",
    "    \n",
    "    mask = cv2.inRange(hsv,lower_blue, upper_blue)  # all pixels falls in the range gonna get a 1 and all the pixels out of the range gonna get a 0\n",
    "    \n",
    "    result = cv2.bitwise_and(frame,frame,mask=mask) #applying the mask on the image\n",
    "    \n",
    "    cv2.imshow('hsv',hsv)\n",
    "    cv2.imshow('mask',mask)\n",
    "    cv2.imshow('result',result)\n",
    "    \n",
    "    if cv2.waitKey(1) == ord('q'):  #ord gives the ascii value\n",
    "        break\n",
    "\n",
    "cap.release()\n",
    "cv2.destroyAllWindows()\n",
    "        "
   ]
  },
  {
   "cell_type": "code",
   "execution_count": null,
   "id": "1d64d817",
   "metadata": {},
   "outputs": [],
   "source": []
  }
 ],
 "metadata": {
  "kernelspec": {
   "display_name": "Python 3 (ipykernel)",
   "language": "python",
   "name": "python3"
  },
  "language_info": {
   "codemirror_mode": {
    "name": "ipython",
    "version": 3
   },
   "file_extension": ".py",
   "mimetype": "text/x-python",
   "name": "python",
   "nbconvert_exporter": "python",
   "pygments_lexer": "ipython3",
   "version": "3.9.15"
  }
 },
 "nbformat": 4,
 "nbformat_minor": 5
}
